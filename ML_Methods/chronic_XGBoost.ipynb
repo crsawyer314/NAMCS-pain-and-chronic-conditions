{
 "cells": [
  {
   "cell_type": "code",
   "execution_count": 1,
   "metadata": {},
   "outputs": [],
   "source": [
    "import numpy as np\n",
    "import scipy as sp\n",
    "import matplotlib.pyplot as plt\n",
    "from scipy.stats import linregress as LR\n",
    "import pandas as pd\n",
    "from pandas.util.testing import assert_frame_equal\n",
    "from sklearn.model_selection import train_test_split\n",
    "pd.set_option(\"display.max_columns\",200)\n",
    "\n",
    "from sklearn.model_selection import train_test_split\n",
    "from sklearn.metrics import accuracy_score\n",
    "from sklearn.metrics import confusion_matrix\n",
    "from subprocess import call\n",
    "\n",
    "import xgboost as xgb\n",
    "\n",
    "from sklearn.utils import resample\n",
    "from sklearn.metrics import recall_score"
   ]
  },
  {
   "cell_type": "code",
   "execution_count": 2,
   "metadata": {},
   "outputs": [],
   "source": [
    "#make a chronic patient table for this subset of conditions\n",
    "\n",
    "# read in that pre-made table\n",
    "df=pd.read_csv(\"../data_files/chronic_patients.csv\")\n",
    "df = df.dropna(axis = 0,how='any')\n",
    "upsample=False"
   ]
  },
  {
   "cell_type": "code",
   "execution_count": 3,
   "metadata": {},
   "outputs": [],
   "source": [
    "X = df[['VMONTH', 'AGE', 'SEX', 'RACE', 'ETHNIC', 'RFV1', 'DIAG1', 'DIAG2',\n",
    "              'DIAG3', 'DIAG4', 'DIAG5', 'PAYTYPE','YEAR','PATWT', 'chronic','pain']]\n",
    "y = df[['received']]\n",
    "\n",
    "X_train, X_test, y_train, y_test = train_test_split(X, y)\n",
    "\n",
    "train = pd.concat([X_train, y_train], axis=1, sort=False)"
   ]
  },
  {
   "cell_type": "code",
   "execution_count": 4,
   "metadata": {},
   "outputs": [
    {
     "data": {
      "text/plain": [
       "1    13465\n",
       "0    13465\n",
       "Name: received, dtype: int64"
      ]
     },
     "execution_count": 4,
     "metadata": {},
     "output_type": "execute_result"
    }
   ],
   "source": [
    "#upsample the opiate-receivers\n",
    "df_maj = train[train.received==0]\n",
    "df_min = train[train.received==1]\n",
    "\n",
    "if upsample:\n",
    "    df_minority_upsampled = resample(df_min, \n",
    "                                     replace=True,     # sample with replacement\n",
    "                                     n_samples=len(df_maj))    # to match majority class\n",
    "                                     #random_state=123) # reproducible results\n",
    "    # Combine majority class with upsampled minority class\n",
    "    train = pd.concat([df_maj, df_minority_upsampled])\n",
    "else: #downsample\n",
    "    df_majority_downsampled = resample(df_maj, \n",
    "                                     replace=False,     # sample with replacement\n",
    "                                     n_samples=len(df_min))    # to match majority class\n",
    "                                     #random_state=123) # reproducible results\n",
    "    # Combine minority class with downsampled majority class\n",
    "    train = pd.concat([df_majority_downsampled, df_min])\n",
    "\n",
    " \n",
    "# Display new class counts\n",
    "train.received.value_counts()"
   ]
  },
  {
   "cell_type": "code",
   "execution_count": 5,
   "metadata": {},
   "outputs": [
    {
     "data": {
      "text/plain": [
       "0    28317\n",
       "1    16741\n",
       "Name: pain, dtype: int64"
      ]
     },
     "execution_count": 5,
     "metadata": {},
     "output_type": "execute_result"
    }
   ],
   "source": [
    "# upsample the pain-diagnosed\n",
    "df_maj = train[train.chronic==0]\n",
    "df_min = train[train.chronic==1]\n",
    "df_minority_upsampled = resample(df_min, \n",
    "                                 replace=True,     # sample with replacement\n",
    "                                 n_samples=len(df_maj),    # to match majority class\n",
    "                                 random_state=123) # reproducible results\n",
    "# Combine majority class with upsampled minority class\n",
    "train = pd.concat([df_maj, df_minority_upsampled])\n",
    " \n",
    "# Display new class counts\n",
    "train.pain.value_counts()"
   ]
  },
  {
   "cell_type": "code",
   "execution_count": 6,
   "metadata": {},
   "outputs": [],
   "source": [
    "X_train = train[['VMONTH', 'AGE', 'SEX', 'RACE', 'ETHNIC', 'RFV1', 'DIAG1', 'DIAG2',\n",
    "              'DIAG3', 'DIAG4', 'DIAG5', 'PAYTYPE','YEAR','PATWT', 'chronic']]\n",
    "y_train = train[['received']]"
   ]
  },
  {
   "cell_type": "code",
   "execution_count": 7,
   "metadata": {},
   "outputs": [],
   "source": [
    "model = xgb.XGBClassifier()#learning_rate=0.01)"
   ]
  },
  {
   "cell_type": "code",
   "execution_count": 8,
   "metadata": {},
   "outputs": [
    {
     "name": "stderr",
     "output_type": "stream",
     "text": [
      "/home/crkellar@byu.local/.local/lib/python3.6/site-packages/sklearn/preprocessing/_label.py:235: DataConversionWarning: A column-vector y was passed when a 1d array was expected. Please change the shape of y to (n_samples, ), for example using ravel().\n",
      "  y = column_or_1d(y, warn=True)\n",
      "/home/crkellar@byu.local/.local/lib/python3.6/site-packages/sklearn/preprocessing/_label.py:268: DataConversionWarning: A column-vector y was passed when a 1d array was expected. Please change the shape of y to (n_samples, ), for example using ravel().\n",
      "  y = column_or_1d(y, warn=True)\n"
     ]
    },
    {
     "data": {
      "text/plain": [
       "XGBClassifier(base_score=0.5, booster='gbtree', colsample_bylevel=1,\n",
       "              colsample_bytree=1, gamma=0, learning_rate=0.1, max_delta_step=0,\n",
       "              max_depth=3, min_child_weight=1, missing=None, n_estimators=100,\n",
       "              n_jobs=1, nthread=None, objective='binary:logistic',\n",
       "              random_state=0, reg_alpha=0, reg_lambda=1, scale_pos_weight=1,\n",
       "              seed=None, silent=True, subsample=1)"
      ]
     },
     "execution_count": 8,
     "metadata": {},
     "output_type": "execute_result"
    }
   ],
   "source": [
    "model.fit(X_train[['VMONTH', 'AGE', 'SEX', 'RACE', 'ETHNIC', 'RFV1', 'DIAG1', 'DIAG2',\n",
    "              'DIAG3', 'DIAG4', 'DIAG5', 'PAYTYPE','YEAR', 'chronic']], y_train[['received']],sample_weight=X_train.PATWT.ravel())"
   ]
  },
  {
   "cell_type": "code",
   "execution_count": 9,
   "metadata": {},
   "outputs": [],
   "source": [
    "y_predict = model.predict(X_test[['VMONTH', 'AGE', 'SEX', 'RACE', 'ETHNIC', 'RFV1', 'DIAG1', 'DIAG2',\n",
    "              'DIAG3', 'DIAG4', 'DIAG5', 'PAYTYPE','YEAR', 'chronic']])#,sample_weight=X_wt2.PATWT.ravel())"
   ]
  },
  {
   "cell_type": "code",
   "execution_count": 10,
   "metadata": {},
   "outputs": [
    {
     "data": {
      "text/plain": [
       "0.7118314816223629"
      ]
     },
     "execution_count": 10,
     "metadata": {},
     "output_type": "execute_result"
    }
   ],
   "source": [
    "accuracy_score(y_test, y_predict,sample_weight=X_test.PATWT.ravel())"
   ]
  },
  {
   "cell_type": "code",
   "execution_count": 11,
   "metadata": {},
   "outputs": [
    {
     "data": {
      "text/html": [
       "<div>\n",
       "<style scoped>\n",
       "    .dataframe tbody tr th:only-of-type {\n",
       "        vertical-align: middle;\n",
       "    }\n",
       "\n",
       "    .dataframe tbody tr th {\n",
       "        vertical-align: top;\n",
       "    }\n",
       "\n",
       "    .dataframe thead th {\n",
       "        text-align: right;\n",
       "    }\n",
       "</style>\n",
       "<table border=\"1\" class=\"dataframe\">\n",
       "  <thead>\n",
       "    <tr style=\"text-align: right;\">\n",
       "      <th></th>\n",
       "      <th>Predicted Not Received</th>\n",
       "      <th>Predicted Received</th>\n",
       "    </tr>\n",
       "  </thead>\n",
       "  <tbody>\n",
       "    <tr>\n",
       "      <th>True Not Received</th>\n",
       "      <td>79858</td>\n",
       "      <td>33766</td>\n",
       "    </tr>\n",
       "    <tr>\n",
       "      <th>True Received</th>\n",
       "      <td>1195</td>\n",
       "      <td>3364</td>\n",
       "    </tr>\n",
       "  </tbody>\n",
       "</table>\n",
       "</div>"
      ],
      "text/plain": [
       "                   Predicted Not Received  Predicted Received\n",
       "True Not Received                   79858               33766\n",
       "True Received                        1195                3364"
      ]
     },
     "execution_count": 11,
     "metadata": {},
     "output_type": "execute_result"
    }
   ],
   "source": [
    "pd.DataFrame(\n",
    "    confusion_matrix(y_test[['received']], y_predict),\n",
    "    columns=['Predicted Not Received', 'Predicted Received'],\n",
    "    index=['True Not Received', 'True Received']\n",
    ")"
   ]
  },
  {
   "cell_type": "code",
   "execution_count": 12,
   "metadata": {},
   "outputs": [
    {
     "data": {
      "text/plain": [
       "0.7378811142794472"
      ]
     },
     "execution_count": 12,
     "metadata": {},
     "output_type": "execute_result"
    }
   ],
   "source": [
    "recall_score(y_test, y_predict)"
   ]
  },
  {
   "cell_type": "code",
   "execution_count": 13,
   "metadata": {},
   "outputs": [
    {
     "data": {
      "image/png": "[encoded data removed]",
      "text/plain": [
       "<Figure size 432x288 with 1 Axes>"
      ]
     },
     "metadata": {},
     "output_type": "display_data"
    }
   ],
   "source": [
    "plt.bar(range(len(model.feature_importances_)), model.feature_importances_)\n",
    "plt.xticks(list(range(15)),['VMONTH', 'AGE', 'SEX', 'RACE', 'ETHNIC', 'RFV1', 'DIAG1', 'DIAG2',\n",
    "              'DIAG3', 'DIAG4', 'DIAG5', 'PAYTYPE','YEAR', 'chronic'], rotation=30)\n",
    "plt.show()"
   ]
  }
 ],
 "metadata": {
  "kernelspec": {
   "display_name": "Python 3",
   "language": "python",
   "name": "python3"
  },
  "language_info": {
   "codemirror_mode": {
    "name": "ipython",
    "version": 3
   },
   "file_extension": ".py",
   "mimetype": "text/x-python",
   "name": "python",
   "nbconvert_exporter": "python",
   "pygments_lexer": "ipython3",
   "version": "3.6.6"
  }
 },
 "nbformat": 4,
 "nbformat_minor": 2
}
