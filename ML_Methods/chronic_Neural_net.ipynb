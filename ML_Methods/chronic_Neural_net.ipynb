{
 "cells": [
  {
   "cell_type": "markdown",
   "metadata": {},
   "source": [
    "# Work on PAIN condition patients"
   ]
  },
  {
   "cell_type": "code",
   "execution_count": 1,
   "metadata": {
    "scrolled": true
   },
   "outputs": [
    {
     "name": "stderr",
     "output_type": "stream",
     "text": [
      "/home/crkellar@byu.local/.local/lib/python3.6/site-packages/tensorflow/python/framework/dtypes.py:516: FutureWarning: Passing (type, 1) or '1type' as a synonym of type is deprecated; in a future version of numpy, it will be understood as (type, (1,)) / '(1,)type'.\n",
      "  _np_qint8 = np.dtype([(\"qint8\", np.int8, 1)])\n",
      "/home/crkellar@byu.local/.local/lib/python3.6/site-packages/tensorflow/python/framework/dtypes.py:517: FutureWarning: Passing (type, 1) or '1type' as a synonym of type is deprecated; in a future version of numpy, it will be understood as (type, (1,)) / '(1,)type'.\n",
      "  _np_quint8 = np.dtype([(\"quint8\", np.uint8, 1)])\n",
      "/home/crkellar@byu.local/.local/lib/python3.6/site-packages/tensorflow/python/framework/dtypes.py:518: FutureWarning: Passing (type, 1) or '1type' as a synonym of type is deprecated; in a future version of numpy, it will be understood as (type, (1,)) / '(1,)type'.\n",
      "  _np_qint16 = np.dtype([(\"qint16\", np.int16, 1)])\n",
      "/home/crkellar@byu.local/.local/lib/python3.6/site-packages/tensorflow/python/framework/dtypes.py:519: FutureWarning: Passing (type, 1) or '1type' as a synonym of type is deprecated; in a future version of numpy, it will be understood as (type, (1,)) / '(1,)type'.\n",
      "  _np_quint16 = np.dtype([(\"quint16\", np.uint16, 1)])\n",
      "/home/crkellar@byu.local/.local/lib/python3.6/site-packages/tensorflow/python/framework/dtypes.py:520: FutureWarning: Passing (type, 1) or '1type' as a synonym of type is deprecated; in a future version of numpy, it will be understood as (type, (1,)) / '(1,)type'.\n",
      "  _np_qint32 = np.dtype([(\"qint32\", np.int32, 1)])\n",
      "/home/crkellar@byu.local/.local/lib/python3.6/site-packages/tensorflow/python/framework/dtypes.py:525: FutureWarning: Passing (type, 1) or '1type' as a synonym of type is deprecated; in a future version of numpy, it will be understood as (type, (1,)) / '(1,)type'.\n",
      "  np_resource = np.dtype([(\"resource\", np.ubyte, 1)])\n"
     ]
    },
    {
     "name": "stdout",
     "output_type": "stream",
     "text": [
      "TensorFlow version: 1.14.0\n",
      "Eager execution: False\n"
     ]
    },
    {
     "name": "stderr",
     "output_type": "stream",
     "text": [
      "/home/crkellar@byu.local/.local/lib/python3.6/site-packages/tensorboard/compat/tensorflow_stub/dtypes.py:541: FutureWarning: Passing (type, 1) or '1type' as a synonym of type is deprecated; in a future version of numpy, it will be understood as (type, (1,)) / '(1,)type'.\n",
      "  _np_qint8 = np.dtype([(\"qint8\", np.int8, 1)])\n",
      "/home/crkellar@byu.local/.local/lib/python3.6/site-packages/tensorboard/compat/tensorflow_stub/dtypes.py:542: FutureWarning: Passing (type, 1) or '1type' as a synonym of type is deprecated; in a future version of numpy, it will be understood as (type, (1,)) / '(1,)type'.\n",
      "  _np_quint8 = np.dtype([(\"quint8\", np.uint8, 1)])\n",
      "/home/crkellar@byu.local/.local/lib/python3.6/site-packages/tensorboard/compat/tensorflow_stub/dtypes.py:543: FutureWarning: Passing (type, 1) or '1type' as a synonym of type is deprecated; in a future version of numpy, it will be understood as (type, (1,)) / '(1,)type'.\n",
      "  _np_qint16 = np.dtype([(\"qint16\", np.int16, 1)])\n",
      "/home/crkellar@byu.local/.local/lib/python3.6/site-packages/tensorboard/compat/tensorflow_stub/dtypes.py:544: FutureWarning: Passing (type, 1) or '1type' as a synonym of type is deprecated; in a future version of numpy, it will be understood as (type, (1,)) / '(1,)type'.\n",
      "  _np_quint16 = np.dtype([(\"quint16\", np.uint16, 1)])\n",
      "/home/crkellar@byu.local/.local/lib/python3.6/site-packages/tensorboard/compat/tensorflow_stub/dtypes.py:545: FutureWarning: Passing (type, 1) or '1type' as a synonym of type is deprecated; in a future version of numpy, it will be understood as (type, (1,)) / '(1,)type'.\n",
      "  _np_qint32 = np.dtype([(\"qint32\", np.int32, 1)])\n",
      "/home/crkellar@byu.local/.local/lib/python3.6/site-packages/tensorboard/compat/tensorflow_stub/dtypes.py:550: FutureWarning: Passing (type, 1) or '1type' as a synonym of type is deprecated; in a future version of numpy, it will be understood as (type, (1,)) / '(1,)type'.\n",
      "  np_resource = np.dtype([(\"resource\", np.ubyte, 1)])\n",
      "Using TensorFlow backend.\n"
     ]
    }
   ],
   "source": [
    "# warnings.filterwarnings(\"ignore\")\n",
    "import numpy as np\n",
    "import scipy as sp\n",
    "import matplotlib.pyplot as plt\n",
    "import pandas as pd\n",
    "from pandas.util.testing import assert_frame_equal\n",
    "from sklearn.model_selection import train_test_split\n",
    "pd.set_option(\"display.max_columns\",200)\n",
    "\n",
    "import tensorflow as tf\n",
    "from tensorflow import keras\n",
    "from sklearn.utils import resample\n",
    "from sklearn.metrics import recall_score\n",
    "\n",
    "from keras.utils import to_categorical\n",
    "from sklearn.utils import compute_class_weight\n",
    "\n",
    "\n",
    "# tf.disable_eager_execution()\n",
    "# tf.enable_eager_execution()\n",
    "\n",
    "from sklearn.preprocessing import StandardScaler\n",
    "\n",
    "print(\"TensorFlow version: {}\".format(tf.__version__))\n",
    "print(\"Eager execution: {}\".format(tf.executing_eagerly()))"
   ]
  },
  {
   "cell_type": "code",
   "execution_count": 2,
   "metadata": {},
   "outputs": [],
   "source": [
    "#make a chronic patient table for this subset of conditions\n",
    "\n",
    "# read in that pre-made table\n",
    "df=pd.read_csv(\"../data_files/chronic_patients.csv\")\n",
    "df = df.dropna(axis = 0,how='any')\n",
    "upsample=False"
   ]
  },
  {
   "cell_type": "markdown",
   "metadata": {},
   "source": [
    "Brute force (but with upsampling) -  try to just make a test/train split, and run a NN on it"
   ]
  },
  {
   "cell_type": "code",
   "execution_count": 3,
   "metadata": {},
   "outputs": [],
   "source": [
    "X = df[['VMONTH', 'AGE', 'SEX', 'RACE', 'ETHNIC', 'PAYTYPE','YEAR','PATWT', 'chronic','pain']]\n",
    "y = df[['received']]\n",
    "\n",
    "X_train, X_test, y_train, y_test = train_test_split(X, y)\n",
    "\n",
    "train = pd.concat([X_train, y_train], axis=1, sort=False)"
   ]
  },
  {
   "cell_type": "code",
   "execution_count": 4,
   "metadata": {},
   "outputs": [
    {
     "data": {
      "text/plain": [
       "1    13524\n",
       "0    13524\n",
       "Name: received, dtype: int64"
      ]
     },
     "execution_count": 4,
     "metadata": {},
     "output_type": "execute_result"
    }
   ],
   "source": [
    "#upsample the opiate-receivers\n",
    "df_maj = train[train.received==0]\n",
    "df_min = train[train.received==1]\n",
    "\n",
    "if upsample:\n",
    "    df_minority_upsampled = resample(df_min, \n",
    "                                     replace=True,     # sample with replacement\n",
    "                                     n_samples=len(df_maj))    # to match majority class\n",
    "                                     #random_state=123) # reproducible results\n",
    "    # Combine majority class with upsampled minority class\n",
    "    train = pd.concat([df_maj, df_minority_upsampled])\n",
    "else: #downsample\n",
    "    df_majority_downsampled = resample(df_maj, \n",
    "                                     replace=False,     # sample with replacement\n",
    "                                     n_samples=len(df_min))    # to match majority class\n",
    "                                     #random_state=123) # reproducible results\n",
    "    # Combine minority class with downsampled majority class\n",
    "    train = pd.concat([df_majority_downsampled, df_min])\n",
    "\n",
    " \n",
    "# Display new class counts\n",
    "train.received.value_counts()"
   ]
  },
  {
   "cell_type": "code",
   "execution_count": 5,
   "metadata": {},
   "outputs": [
    {
     "data": {
      "text/plain": [
       "1    23823\n",
       "0    23823\n",
       "Name: pain, dtype: int64"
      ]
     },
     "execution_count": 5,
     "metadata": {},
     "output_type": "execute_result"
    }
   ],
   "source": [
    "#upsample the pain-diagnosed\n",
    "df_maj = train[train.pain==0]\n",
    "df_min = train[train.pain==1]\n",
    "df_minority_upsampled = resample(df_min, \n",
    "                                 replace=True,     # sample with replacement\n",
    "                                 n_samples=len(df_maj),    # to match majority class\n",
    "                                 random_state=123) # reproducible results\n",
    "# Combine majority class with upsampled minority class\n",
    "train = pd.concat([df_maj, df_minority_upsampled])\n",
    " \n",
    "# Display new class counts\n",
    "train.pain.value_counts()"
   ]
  },
  {
   "cell_type": "code",
   "execution_count": 6,
   "metadata": {
    "scrolled": true
   },
   "outputs": [],
   "source": [
    "X_train = train[['VMONTH', 'AGE', 'SEX', 'RACE', 'ETHNIC', 'PAYTYPE','YEAR','PATWT', 'chronic','pain']]\n",
    "y_train = train[['received']]"
   ]
  },
  {
   "cell_type": "code",
   "execution_count": 7,
   "metadata": {
    "scrolled": true
   },
   "outputs": [
    {
     "name": "stdout",
     "output_type": "stream",
     "text": [
      "(47646, 9)\n",
      "(47646,)\n"
     ]
    }
   ],
   "source": [
    "#get the sample weights for the training data, remove the patwt col from other sets\n",
    "sample_weights = X_train.PATWT.ravel()\n",
    "#diagnoses, rfv's, and meds are poorly encoded for this, as they're numerical representations of categorical data\n",
    "#removed: , 'RFV1', 'DIAG1', 'DIAG2', 'DIAG3', 'DIAG4', 'DIAG5', 'MED1'\n",
    "X_train = X_train[['VMONTH', 'AGE', 'SEX', 'RACE', 'ETHNIC', 'PAYTYPE','YEAR', 'chronic','pain']]\n",
    "X_test = X_test[['VMONTH', 'AGE', 'SEX', 'RACE', 'ETHNIC', 'PAYTYPE','YEAR', 'chronic','pain']]\n",
    "print(X_train.shape)\n",
    "print(sample_weights.shape)\n",
    "#print(X_val.shape)"
   ]
  },
  {
   "cell_type": "code",
   "execution_count": 8,
   "metadata": {},
   "outputs": [
    {
     "name": "stdout",
     "output_type": "stream",
     "text": [
      "firsst VMONTH       12.0\n",
      "AGE         100.0\n",
      "SEX           2.0\n",
      "RACE          6.0\n",
      "ETHNIC        3.0\n",
      "PAYTYPE       9.0\n",
      "YEAR       2016.0\n",
      "chronic       1.0\n",
      "pain          1.0\n",
      "dtype: float64\n",
      "second 7.704008085535389\n"
     ]
    }
   ],
   "source": [
    "# Normalize the data\n",
    "scaler = StandardScaler()\n",
    "print(\"firsst\", np.max(X_train))\n",
    "X_train = scaler.fit_transform(X_train)\n",
    "\n",
    "#X_val = scaler.transform(X_val)\n",
    "X_test = scaler.transform(X_test)\n",
    "print(\"second\",np.max(X_train))"
   ]
  },
  {
   "cell_type": "code",
   "execution_count": 13,
   "metadata": {},
   "outputs": [],
   "source": [
    "# build the model\n",
    "\n",
    "model = keras.models.Sequential()  # simplest model: a stack of layers\n",
    "model.add(keras.layers.Dense(32, input_dim=9)) # just flatten (num cols)\n",
    "model.add(keras.layers.Dense(30, activation=\"relu\")) # Dense layer\n",
    "model.add(keras.layers.Dense(1, activation=\"softmax\")) # Dense layer\n",
    "                                   # with 2 outputs, using\n",
    "                                   # softmax because this is \n",
    "                                   # a logistic classification"
   ]
  },
  {
   "cell_type": "code",
   "execution_count": 14,
   "metadata": {
    "scrolled": true
   },
   "outputs": [],
   "source": [
    "# model.summary()"
   ]
  },
  {
   "cell_type": "code",
   "execution_count": 15,
   "metadata": {},
   "outputs": [],
   "source": [
    "# Compile the model \n",
    "learning_rate=0.1\n",
    "decay = 1e-6\n",
    "model.compile(loss=\"binary_crossentropy\",\n",
    "              #optimizer='adam',\n",
    "              optimizer=keras.optimizers.SGD(lr = learning_rate,\n",
    "                                             decay = decay,\n",
    "                                             momentum = 0.9, \n",
    "                                             nesterov=False),\n",
    "             metrics=[\"accuracy\"])\n",
    "\n",
    "## use sparse because categorical labels => sparse one-hot encoding"
   ]
  },
  {
   "cell_type": "code",
   "execution_count": 16,
   "metadata": {
    "scrolled": true
   },
   "outputs": [
    {
     "name": "stdout",
     "output_type": "stream",
     "text": [
      "Train on 42881 samples, validate on 4765 samples\n",
      "WARNING:tensorflow:From /home/crkellar@byu.local/.local/lib/python3.6/site-packages/tensorflow/python/ops/math_grad.py:1250: add_dispatch_support.<locals>.wrapper (from tensorflow.python.ops.array_ops) is deprecated and will be removed in a future version.\n",
      "Instructions for updating:\n",
      "Use tf.where in 2.0, which has the same broadcast rule as np.where\n",
      "Epoch 1/15\n",
      "42881/42881 [==============================] - 1s 27us/sample - loss: 169517.1783 - acc: 0.5969 - val_loss: 93912.1012 - val_acc: 0.7706\n",
      "Epoch 2/15\n",
      "42881/42881 [==============================] - 1s 24us/sample - loss: 169517.1781 - acc: 0.5969 - val_loss: 93912.1006 - val_acc: 0.7706\n",
      "Epoch 3/15\n",
      "42881/42881 [==============================] - 1s 24us/sample - loss: 169517.1785 - acc: 0.5969 - val_loss: 93912.1008 - val_acc: 0.7706\n",
      "Epoch 4/15\n",
      "42881/42881 [==============================] - 1s 24us/sample - loss: 169517.1787 - acc: 0.5969 - val_loss: 93912.0997 - val_acc: 0.7706\n",
      "Epoch 5/15\n",
      "42881/42881 [==============================] - 1s 24us/sample - loss: 169517.1787 - acc: 0.5969 - val_loss: 93912.1006 - val_acc: 0.7706\n",
      "Epoch 6/15\n",
      "42881/42881 [==============================] - 1s 24us/sample - loss: 169517.1783 - acc: 0.5969 - val_loss: 93912.1004 - val_acc: 0.7706\n",
      "Epoch 7/15\n",
      "42881/42881 [==============================] - 1s 24us/sample - loss: 169517.1786 - acc: 0.5969 - val_loss: 93912.1006 - val_acc: 0.7706\n",
      "Epoch 8/15\n",
      "42881/42881 [==============================] - 1s 24us/sample - loss: 169517.1783 - acc: 0.5969 - val_loss: 93912.1007 - val_acc: 0.7706\n",
      "Epoch 9/15\n",
      "42881/42881 [==============================] - 1s 28us/sample - loss: 169517.1780 - acc: 0.5969 - val_loss: 93912.1005 - val_acc: 0.7706\n",
      "Epoch 10/15\n",
      "42881/42881 [==============================] - 1s 24us/sample - loss: 169517.1782 - acc: 0.5969 - val_loss: 93912.1009 - val_acc: 0.7706\n",
      "Epoch 11/15\n",
      "42881/42881 [==============================] - 1s 24us/sample - loss: 169517.1785 - acc: 0.5969 - val_loss: 93912.1008 - val_acc: 0.7706\n",
      "Epoch 12/15\n",
      "42881/42881 [==============================] - 1s 24us/sample - loss: 169517.1783 - acc: 0.5969 - val_loss: 93912.1003 - val_acc: 0.7706\n",
      "Epoch 13/15\n",
      "42881/42881 [==============================] - 1s 24us/sample - loss: 169517.1787 - acc: 0.5969 - val_loss: 93912.1006 - val_acc: 0.7706\n",
      "Epoch 14/15\n",
      "42881/42881 [==============================] - 1s 24us/sample - loss: 169517.1783 - acc: 0.5969 - val_loss: 93912.1007 - val_acc: 0.7706\n",
      "Epoch 15/15\n",
      "42881/42881 [==============================] - 1s 24us/sample - loss: 169517.1783 - acc: 0.5969 - val_loss: 93912.1011 - val_acc: 0.7706\n"
     ]
    }
   ],
   "source": [
    "# Train the model\n",
    "history = model.fit(np.array(X_train), np.array(y_train), \n",
    "                    epochs=15,\n",
    "                    validation_split=.1,\n",
    "                   # validation_data=(np.array(X_val), np.array(y_val),val_weights),\n",
    "                    sample_weight = sample_weights)\n",
    "# batch_size defaults to 32"
   ]
  },
  {
   "cell_type": "code",
   "execution_count": 19,
   "metadata": {},
   "outputs": [
    {
     "data": {
      "image/png": "[encoded data removed]",
      "text/plain": [
       "<Figure size 576x360 with 1 Axes>"
      ]
     },
     "metadata": {},
     "output_type": "display_data"
    }
   ],
   "source": [
    "# Plot the history\n",
    "plt.figure(figsize=(8,5))\n",
    "plt.plot(history.history['acc'], label='training accuracy')\n",
    "plt.plot(history.history['val_acc'], label='validation accuracy')\n",
    "plt.plot(history.history['loss'], label='training loss')\n",
    "plt.plot(history.history['val_loss'], label='validation loss')\n",
    "plt.legend(frameon=False)\n",
    "plt.grid(True, alpha=0.1)\n",
    "plt.ylim(0,1);"
   ]
  },
  {
   "cell_type": "code",
   "execution_count": 18,
   "metadata": {},
   "outputs": [
    {
     "name": "stdout",
     "output_type": "stream",
     "text": [
      "118183/118183 [==============================] - 1s 10us/sample - loss: 14.7494 - acc: 0.0381\n"
     ]
    },
    {
     "data": {
      "text/plain": [
       "[14.74940183262085, 0.038076542]"
      ]
     },
     "execution_count": 18,
     "metadata": {},
     "output_type": "execute_result"
    }
   ],
   "source": [
    "## Finally, evaluate on the actual test set.\n",
    "model.evaluate(X_test, y_test)"
   ]
  },
  {
   "cell_type": "code",
   "execution_count": null,
   "metadata": {},
   "outputs": [],
   "source": []
  }
 ],
 "metadata": {
  "kernelspec": {
   "display_name": "Python 3",
   "language": "python",
   "name": "python3"
  },
  "language_info": {
   "codemirror_mode": {
    "name": "ipython",
    "version": 3
   },
   "file_extension": ".py",
   "mimetype": "text/x-python",
   "name": "python",
   "nbconvert_exporter": "python",
   "pygments_lexer": "ipython3",
   "version": "3.6.6"
  }
 },
 "nbformat": 4,
 "nbformat_minor": 2
}
