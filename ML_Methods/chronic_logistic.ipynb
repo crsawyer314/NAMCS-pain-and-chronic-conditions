{
 "cells": [
  {
   "cell_type": "code",
   "execution_count": 1,
   "metadata": {},
   "outputs": [],
   "source": [
    "import numpy as np\n",
    "import scipy as sp\n",
    "import matplotlib.pyplot as plt\n",
    "from scipy.stats import linregress as LR\n",
    "import pandas as pd\n",
    "from pandas.util.testing import assert_frame_equal\n",
    "from sklearn.model_selection import train_test_split\n",
    "pd.set_option(\"display.max_columns\",200)\n",
    "\n",
    "from sklearn.model_selection import train_test_split\n",
    "from sklearn.metrics import accuracy_score\n",
    "from sklearn.metrics import confusion_matrix\n",
    "from subprocess import call\n",
    "\n",
    "from sklearn.linear_model import LogisticRegression\n",
    "from sklearn.utils import resample\n",
    "from sklearn.metrics import recall_score"
   ]
  },
  {
   "cell_type": "code",
   "execution_count": 2,
   "metadata": {},
   "outputs": [],
   "source": [
    "#make a chronic patient table for this subset of conditions\n",
    "\n",
    "# read in that pre-made table\n",
    "df=pd.read_csv(\"../data_files/chronic_patients.csv\")\n",
    "df = df.dropna(axis = 0,how='any')\n",
    "upsample=True"
   ]
  },
  {
   "cell_type": "code",
   "execution_count": 3,
   "metadata": {},
   "outputs": [],
   "source": [
    "X = df[['VMONTH', 'AGE', 'SEX', 'RACE', 'ETHNIC', 'RFV1', 'DIAG1', 'DIAG2',\n",
    "              'DIAG3', 'DIAG4', 'DIAG5', 'MED1', 'PAYTYPE','YEAR','PATWT', 'chronic','pain']]\n",
    "y = df[['received']]\n",
    "\n",
    "X_train, X_test, y_train, y_test = train_test_split(X, y)\n",
    "\n",
    "train = pd.concat([X_train, y_train], axis=1, sort=False)"
   ]
  },
  {
   "cell_type": "code",
   "execution_count": 4,
   "metadata": {},
   "outputs": [
    {
     "data": {
      "text/plain": [
       "1    340972\n",
       "0    340972\n",
       "Name: received, dtype: int64"
      ]
     },
     "execution_count": 4,
     "metadata": {},
     "output_type": "execute_result"
    }
   ],
   "source": [
    "#upsample the opiate-receivers\n",
    "df_maj = train[train.received==0]\n",
    "df_min = train[train.received==1]\n",
    "\n",
    "if upsample:\n",
    "    df_minority_upsampled = resample(df_min, \n",
    "                                     replace=True,     # sample with replacement\n",
    "                                     n_samples=len(df_maj))    # to match majority class\n",
    "                                     #random_state=123) # reproducible results\n",
    "    # Combine majority class with upsampled minority class\n",
    "    train = pd.concat([df_maj, df_minority_upsampled])\n",
    "else: #downsample\n",
    "    df_majority_downsampled = resample(df_maj, \n",
    "                                     replace=False,     # sample with replacement\n",
    "                                     n_samples=len(df_min))    # to match majority class\n",
    "                                     #random_state=123) # reproducible results\n",
    "    # Combine minority class with downsampled majority class\n",
    "    train = pd.concat([df_majority_downsampled, df_min])\n",
    "\n",
    " \n",
    "# Display new class counts\n",
    "train.received.value_counts()"
   ]
  },
  {
   "cell_type": "code",
   "execution_count": 5,
   "metadata": {},
   "outputs": [
    {
     "data": {
      "text/plain": [
       "0    725436\n",
       "1    419296\n",
       "Name: pain, dtype: int64"
      ]
     },
     "execution_count": 5,
     "metadata": {},
     "output_type": "execute_result"
    }
   ],
   "source": [
    "# upsample the pain-diagnosed\n",
    "df_maj = train[train.chronic==0]\n",
    "df_min = train[train.chronic==1]\n",
    "df_minority_upsampled = resample(df_min, \n",
    "                                 replace=True,     # sample with replacement\n",
    "                                 n_samples=len(df_maj),    # to match majority class\n",
    "                                 random_state=123) # reproducible results\n",
    "# Combine majority class with upsampled minority class\n",
    "train = pd.concat([df_maj, df_minority_upsampled])\n",
    " \n",
    "# Display new class counts\n",
    "train.pain.value_counts()"
   ]
  },
  {
   "cell_type": "code",
   "execution_count": 6,
   "metadata": {},
   "outputs": [],
   "source": [
    "X_train = train[['VMONTH', 'AGE', 'SEX', 'RACE', 'ETHNIC', 'RFV1', 'DIAG1', 'DIAG2',\n",
    "              'DIAG3', 'DIAG4', 'DIAG5', 'MED1', 'PAYTYPE','YEAR','PATWT', 'chronic']]\n",
    "y_train = train[['received']]"
   ]
  },
  {
   "cell_type": "code",
   "execution_count": 7,
   "metadata": {},
   "outputs": [],
   "source": [
    "model = LogisticRegression()"
   ]
  },
  {
   "cell_type": "code",
   "execution_count": 8,
   "metadata": {},
   "outputs": [
    {
     "name": "stderr",
     "output_type": "stream",
     "text": [
      "/home/crkellar@byu.local/.local/lib/python3.6/site-packages/sklearn/utils/validation.py:760: DataConversionWarning: A column-vector y was passed when a 1d array was expected. Please change the shape of y to (n_samples, ), for example using ravel().\n",
      "  y = column_or_1d(y, warn=True)\n"
     ]
    },
    {
     "data": {
      "text/plain": [
       "LogisticRegression(C=1.0, class_weight=None, dual=False, fit_intercept=True,\n",
       "                   intercept_scaling=1, l1_ratio=None, max_iter=100,\n",
       "                   multi_class='auto', n_jobs=None, penalty='l2',\n",
       "                   random_state=None, solver='lbfgs', tol=0.0001, verbose=0,\n",
       "                   warm_start=False)"
      ]
     },
     "execution_count": 8,
     "metadata": {},
     "output_type": "execute_result"
    }
   ],
   "source": [
    "model.fit(X_train[['VMONTH', 'AGE', 'SEX', 'RACE', 'ETHNIC', 'RFV1', 'DIAG1', 'DIAG2',\n",
    "              'DIAG3', 'DIAG4', 'DIAG5', 'MED1', 'PAYTYPE','YEAR', 'chronic']], y_train[['received']],sample_weight=X_train.PATWT.ravel())"
   ]
  },
  {
   "cell_type": "code",
   "execution_count": 9,
   "metadata": {},
   "outputs": [],
   "source": [
    "y_predict = model.predict(X_test[['VMONTH', 'AGE', 'SEX', 'RACE', 'ETHNIC', 'RFV1', 'DIAG1', 'DIAG2',\n",
    "              'DIAG3', 'DIAG4', 'DIAG5', 'MED1', 'PAYTYPE','YEAR', 'chronic']])#,sample_weight=X_wt2.PATWT.ravel())"
   ]
  },
  {
   "cell_type": "code",
   "execution_count": 10,
   "metadata": {},
   "outputs": [
    {
     "data": {
      "text/plain": [
       "0.3639760035749859"
      ]
     },
     "execution_count": 10,
     "metadata": {},
     "output_type": "execute_result"
    }
   ],
   "source": [
    "accuracy_score(y_test, y_predict,sample_weight=X_test.PATWT.ravel())"
   ]
  },
  {
   "cell_type": "code",
   "execution_count": 11,
   "metadata": {},
   "outputs": [
    {
     "data": {
      "text/html": [
       "<div>\n",
       "<style scoped>\n",
       "    .dataframe tbody tr th:only-of-type {\n",
       "        vertical-align: middle;\n",
       "    }\n",
       "\n",
       "    .dataframe tbody tr th {\n",
       "        vertical-align: top;\n",
       "    }\n",
       "\n",
       "    .dataframe thead th {\n",
       "        text-align: right;\n",
       "    }\n",
       "</style>\n",
       "<table border=\"1\" class=\"dataframe\">\n",
       "  <thead>\n",
       "    <tr style=\"text-align: right;\">\n",
       "      <th></th>\n",
       "      <th>Predicted Not Received</th>\n",
       "      <th>Predicted Received</th>\n",
       "    </tr>\n",
       "  </thead>\n",
       "  <tbody>\n",
       "    <tr>\n",
       "      <th>True Not Received</th>\n",
       "      <td>41090</td>\n",
       "      <td>72644</td>\n",
       "    </tr>\n",
       "    <tr>\n",
       "      <th>True Received</th>\n",
       "      <td>995</td>\n",
       "      <td>3454</td>\n",
       "    </tr>\n",
       "  </tbody>\n",
       "</table>\n",
       "</div>"
      ],
      "text/plain": [
       "                   Predicted Not Received  Predicted Received\n",
       "True Not Received                   41090               72644\n",
       "True Received                         995                3454"
      ]
     },
     "execution_count": 11,
     "metadata": {},
     "output_type": "execute_result"
    }
   ],
   "source": [
    "pd.DataFrame(\n",
    "    confusion_matrix(y_test[['received']], y_predict),\n",
    "    columns=['Predicted Not Received', 'Predicted Received'],\n",
    "    index=['True Not Received', 'True Received']\n",
    ")"
   ]
  },
  {
   "cell_type": "code",
   "execution_count": 12,
   "metadata": {},
   "outputs": [
    {
     "data": {
      "text/plain": [
       "0.7763542369071702"
      ]
     },
     "execution_count": 12,
     "metadata": {},
     "output_type": "execute_result"
    }
   ],
   "source": [
    "recall_score(y_test, y_predict)"
   ]
  },
  {
   "cell_type": "code",
   "execution_count": null,
   "metadata": {},
   "outputs": [],
   "source": []
  }
 ],
 "metadata": {
  "kernelspec": {
   "display_name": "Python 3",
   "language": "python",
   "name": "python3"
  },
  "language_info": {
   "codemirror_mode": {
    "name": "ipython",
    "version": 3
   },
   "file_extension": ".py",
   "mimetype": "text/x-python",
   "name": "python",
   "nbconvert_exporter": "python",
   "pygments_lexer": "ipython3",
   "version": "3.6.6"
  }
 },
 "nbformat": 4,
 "nbformat_minor": 2
}
