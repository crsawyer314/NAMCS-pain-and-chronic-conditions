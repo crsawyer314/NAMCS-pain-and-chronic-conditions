{
 "cells": [
  {
   "cell_type": "code",
   "execution_count": 1,
   "metadata": {},
   "outputs": [
    {
     "name": "stderr",
     "output_type": "stream",
     "text": [
      "/usr/local/anaconda3/lib/python3.6/site-packages/sklearn/ensemble/weight_boosting.py:29: DeprecationWarning: numpy.core.umath_tests is an internal NumPy module and should not be imported. It will be removed in a future NumPy release.\n",
      "  from numpy.core.umath_tests import inner1d\n"
     ]
    }
   ],
   "source": [
    "import numpy as np\n",
    "import scipy as sp\n",
    "import matplotlib.pyplot as plt\n",
    "from scipy.stats import linregress as LR\n",
    "import pandas as pd\n",
    "from pandas.util.testing import assert_frame_equal\n",
    "pd.set_option(\"display.max_columns\",200)\n",
    "\n",
    "from sklearn.model_selection import train_test_split\n",
    "from sklearn.metrics import accuracy_score\n",
    "from sklearn.metrics import confusion_matrix\n",
    "from subprocess import call\n",
    "\n",
    "from sklearn.ensemble import RandomForestClassifier\n",
    "from sklearn.utils import resample"
   ]
  },
  {
   "cell_type": "code",
   "execution_count": 2,
   "metadata": {},
   "outputs": [],
   "source": [
    "#make a chronic patient table for this subset of conditions\n",
    "\n",
    "# read in that pre-made table\n",
    "df=pd.read_csv(\"data_files/chronic_patients.csv\")\n",
    "df = df.dropna(axis = 0,how='any')"
   ]
  },
  {
   "cell_type": "code",
   "execution_count": 3,
   "metadata": {},
   "outputs": [
    {
     "data": {
      "text/plain": [
       "['Unnamed: 0',\n",
       " 'VMONTH',\n",
       " 'AGE',\n",
       " 'SEX',\n",
       " 'RACE',\n",
       " 'ETHNIC',\n",
       " 'RFV1',\n",
       " 'DIAG1',\n",
       " 'DIAG2',\n",
       " 'DIAG3',\n",
       " 'DIAG4',\n",
       " 'DIAG5',\n",
       " 'MED1',\n",
       " 'PAYTYPE',\n",
       " 'YEAR',\n",
       " 'PATWT',\n",
       " 'received',\n",
       " 'chronic',\n",
       " 'pain',\n",
       " 'benign_cancer',\n",
       " 'headache',\n",
       " 'heart_lung',\n",
       " 'heart',\n",
       " 'joint_osteo',\n",
       " 'lung',\n",
       " 'malignant_cancer',\n",
       " 'neck_back',\n",
       " 'other_joint',\n",
       " 'other_pain']"
      ]
     },
     "execution_count": 3,
     "metadata": {},
     "output_type": "execute_result"
    }
   ],
   "source": [
    "df.columns.tolist()"
   ]
  },
  {
   "cell_type": "code",
   "execution_count": null,
   "metadata": {},
   "outputs": [],
   "source": [
    "#want to look at what other meds are prescribed for these conditions we're looking at"
   ]
  }
 ],
 "metadata": {
  "kernelspec": {
   "display_name": "Python 3",
   "language": "python",
   "name": "python3"
  },
  "language_info": {
   "codemirror_mode": {
    "name": "ipython",
    "version": 3
   },
   "file_extension": ".py",
   "mimetype": "text/x-python",
   "name": "python",
   "nbconvert_exporter": "python",
   "pygments_lexer": "ipython3",
   "version": "3.6.6"
  }
 },
 "nbformat": 4,
 "nbformat_minor": 2
}
